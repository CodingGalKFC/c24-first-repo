{
 "cells": [
  {
   "cell_type": "code",
   "execution_count": 1,
   "metadata": {},
   "outputs": [],
   "source": [
    "##task\n",
    "\n",
    "##As a dev I want to make a Git repo with code in it and upload it to GitHub."
   ]
  },
  {
   "cell_type": "code",
   "execution_count": 2,
   "metadata": {},
   "outputs": [
    {
     "name": "stdout",
     "output_type": "stream",
     "text": [
      "/home/karinacmps12/workflow1\n"
     ]
    }
   ],
   "source": [
    "# Where am I?\n",
    "\n",
    "pwd"
   ]
  },
  {
   "cell_type": "code",
   "execution_count": 3,
   "metadata": {},
   "outputs": [
    {
     "name": "stdout",
     "output_type": "stream",
     "text": [
      "Initialized empty Git repository in /home/karinacmps12/workflow1/.git/\n"
     ]
    }
   ],
   "source": [
    "#initialize repo\n",
    "\n",
    "git init"
   ]
  },
  {
   "cell_type": "code",
   "execution_count": 5,
   "metadata": {},
   "outputs": [
    {
     "name": "stdout",
     "output_type": "stream",
     "text": [
      "On branch master\n",
      "\n",
      "Initial commit\n",
      "\n",
      "Untracked files:\n",
      "  (use \"git add <file>...\" to include in what will be committed)\n",
      "\n",
      "\t.ipynb_checkpoints/\n",
      "\tworkflow_notes.ipynb\n",
      "\n",
      "nothing added to commit but untracked files present (use \"git add\" to track)\n"
     ]
    }
   ],
   "source": [
    "# check work. is this a repo?\n",
    "\n",
    "git status "
   ]
  },
  {
   "cell_type": "code",
   "execution_count": 6,
   "metadata": {},
   "outputs": [],
   "source": [
    "# create a .gitignore file\n",
    "\n",
    "touch .gitignore"
   ]
  },
  {
   "cell_type": "code",
   "execution_count": 7,
   "metadata": {},
   "outputs": [
    {
     "name": "stdout",
     "output_type": "stream",
     "text": [
      "workflow_notes.ipynb\n"
     ]
    }
   ],
   "source": [
    "ls"
   ]
  },
  {
   "cell_type": "code",
   "execution_count": 1,
   "metadata": {},
   "outputs": [
    {
     "name": "stdout",
     "output_type": "stream",
     "text": [
      "total 20\n",
      "4 drwxr-xr-x 4 karinacmps12 karinacmps12 4096 Mar 23 17:39 \u001b[0m\u001b[01;34m.\u001b[0m\n",
      "4 drwxr-xr-x 9 karinacmps12 karinacmps12 4096 Mar 23 17:40 \u001b[01;34m..\u001b[0m\n",
      "4 drwxr-xr-x 7 karinacmps12 karinacmps12 4096 Mar 23 17:38 \u001b[01;34m.git\u001b[0m\n",
      "0 -rw-r--r-- 1 karinacmps12 karinacmps12    0 Mar 23 17:38 .gitignore\n",
      "4 drwxr-xr-x 2 karinacmps12 karinacmps12 4096 Mar 23 17:35 \u001b[01;34m.ipynb_checkpoints\u001b[0m\n",
      "4 -rw-r--r-- 1 karinacmps12 karinacmps12 2328 Mar 23 17:39 workflow_notes.ipynb\n"
     ]
    }
   ],
   "source": [
    "ls -als"
   ]
  },
  {
   "cell_type": "code",
   "execution_count": 2,
   "metadata": {},
   "outputs": [],
   "source": [
    "echo .ipynb_checkpoints/ >> .gitignore"
   ]
  },
  {
   "cell_type": "code",
   "execution_count": 3,
   "metadata": {},
   "outputs": [
    {
     "name": "stdout",
     "output_type": "stream",
     "text": [
      "On branch master\n",
      "\n",
      "Initial commit\n",
      "\n",
      "Untracked files:\n",
      "  (use \"git add <file>...\" to include in what will be committed)\n",
      "\n",
      "\t.gitignore\n",
      "\tworkflow_notes.ipynb\n",
      "\n",
      "nothing added to commit but untracked files present (use \"git add\" to track)\n"
     ]
    }
   ],
   "source": [
    "git status"
   ]
  },
  {
   "cell_type": "code",
   "execution_count": 4,
   "metadata": {},
   "outputs": [],
   "source": [
    "git remote add origin https://github.com/KarinaCmps12/c24-first-repo.git"
   ]
  },
  {
   "cell_type": "code",
   "execution_count": 5,
   "metadata": {},
   "outputs": [
    {
     "name": "stdout",
     "output_type": "stream",
     "text": [
      "origin\thttps://github.com/KarinaCmps12/c24-first-repo.git (fetch)\n",
      "origin\thttps://github.com/KarinaCmps12/c24-first-repo.git (push)\n"
     ]
    }
   ],
   "source": [
    "git remote -v"
   ]
  },
  {
   "cell_type": "code",
   "execution_count": null,
   "metadata": {},
   "outputs": [],
   "source": []
  }
 ],
 "metadata": {
  "kernelspec": {
   "display_name": "Bash",
   "language": "bash",
   "name": "bash"
  },
  "language_info": {
   "codemirror_mode": "shell",
   "file_extension": ".sh",
   "mimetype": "text/x-sh",
   "name": "bash"
  }
 },
 "nbformat": 4,
 "nbformat_minor": 2
}
